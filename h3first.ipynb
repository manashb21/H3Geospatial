{
 "cells": [
  {
   "cell_type": "code",
   "execution_count": null,
   "metadata": {},
   "outputs": [],
   "source": [
    "#triangle has 12 neighbors ani distance pani farak farak huncha \n",
    "#square ko pani edge ra point haru huncha \n",
    "#hexagon has edges only \"UNIQUE\"\n",
    "#square has perfect subdivision, but hexagon also has almost perfect subdivision when rotated a bit\n",
    "#hexagon also minimizes distortion"
   ]
  },
  {
   "cell_type": "markdown",
   "metadata": {},
   "source": [
    "H3 is an open source framework developed by Uber in the C Programming\n",
    "Language. It is a geospatial analysis tool that provides a\n",
    "hexagonal, hierarchical spatial index to gain insights from large geospatial\n",
    "datasets. The building blocks of H3 are different sized regular\n",
    "hexagonal polygons. These polygons are spread out over the entire\n",
    "projection of the earth map from pole to pole. This means that any location\n",
    "on the planet can be attributed to a H3 Hexagon dowlto a precision of\n",
    "0.0000009 km² area.\n",
    "\n",
    "Imagine it as a layer over the planet where each unit of the layer is a\n",
    "hexagon and each hexagon has a unique ID and can very quickly perform\n",
    "geospatial calculations. Each H3 hexagon can be thought of as its own\n",
    "object and each object can be accessed in a very short amount of time given\n",
    "its ID."
   ]
  },
  {
   "cell_type": "markdown",
   "metadata": {},
   "source": [
    "# H3 Resolutions\n",
    "\n",
    "A core strength of H3 is that it covers the entire world with different\n",
    "sized hexagons. This means that the resolution of the layer can be adjusted\n",
    "based on the problem being solved, like scaling the entire grid up and\n",
    "down. H3 contains a total of 16 resolutions as described in the table below,\n",
    "and each resolution has a certain number of hexagons that span the entire\n",
    "earth as a layer ranging from 122 hexagons in the highest layer and about\n",
    "500 trillion hexagons at the lowest layer. Each layer consists of a more\n",
    "granular level of hexagons and each hexagon of every layer has its own\n",
    "unique ID."
   ]
  },
  {
   "cell_type": "code",
   "execution_count": 2,
   "metadata": {},
   "outputs": [],
   "source": [
    "import h3"
   ]
  },
  {
   "cell_type": "code",
   "execution_count": 5,
   "metadata": {},
   "outputs": [
    {
     "data": {
      "text/plain": [
       "'8743accf5ffffff'"
      ]
     },
     "execution_count": 5,
     "metadata": {},
     "output_type": "execute_result"
    }
   ],
   "source": [
    "h3.geo_to_h3(\n",
    "    lat =25.32,\n",
    "    lng = 55.46,\n",
    "    resolution = 7\n",
    ")"
   ]
  },
  {
   "cell_type": "code",
   "execution_count": 6,
   "metadata": {},
   "outputs": [
    {
     "ename": "ModuleNotFoundError",
     "evalue": "No module named 'shapely'",
     "output_type": "error",
     "traceback": [
      "\u001b[1;31m---------------------------------------------------------------------------\u001b[0m",
      "\u001b[1;31mModuleNotFoundError\u001b[0m                       Traceback (most recent call last)",
      "\u001b[1;32m<ipython-input-6-74174b2f5f78>\u001b[0m in \u001b[0;36m<module>\u001b[1;34m\u001b[0m\n\u001b[0;32m      1\u001b[0m \u001b[1;32mimport\u001b[0m \u001b[0mh3\u001b[0m\u001b[1;33m\u001b[0m\u001b[1;33m\u001b[0m\u001b[0m\n\u001b[1;32m----> 2\u001b[1;33m \u001b[1;32mfrom\u001b[0m \u001b[0mshapely\u001b[0m\u001b[1;33m.\u001b[0m\u001b[0mgeometry\u001b[0m \u001b[1;32mimport\u001b[0m \u001b[0mPolygon\u001b[0m\u001b[1;33m,\u001b[0m \u001b[0mPoint\u001b[0m\u001b[1;33m\u001b[0m\u001b[1;33m\u001b[0m\u001b[0m\n\u001b[0m",
      "\u001b[1;31mModuleNotFoundError\u001b[0m: No module named 'shapely'"
     ]
    }
   ],
   "source": [
    "import h3\n",
    "from shapely.geometry import Polygon, Point"
   ]
  },
  {
   "cell_type": "code",
   "execution_count": null,
   "metadata": {},
   "outputs": [],
   "source": []
  }
 ],
 "metadata": {
  "kernelspec": {
   "display_name": "Python 3",
   "language": "python",
   "name": "python3"
  },
  "language_info": {
   "codemirror_mode": {
    "name": "ipython",
    "version": 3
   },
   "file_extension": ".py",
   "mimetype": "text/x-python",
   "name": "python",
   "nbconvert_exporter": "python",
   "pygments_lexer": "ipython3",
   "version": "3.7.3"
  }
 },
 "nbformat": 4,
 "nbformat_minor": 2
}
