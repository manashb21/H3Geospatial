{
 "cells": [
  {
   "cell_type": "code",
   "execution_count": null,
   "metadata": {},
   "outputs": [],
   "source": [
    "#triangle has 12 neighbors ani distance pani farak farak huncha \n",
    "#square ko pani edge ra point haru huncha \n",
    "#hexagon has edges only \"UNIQUE\"\n",
    "#square has perfect subdivision, but hexagon also has almost perfect subdivision when rotated a bit\n",
    "#hexagon also minimizes distortion"
   ]
  },
  {
   "cell_type": "markdown",
   "metadata": {},
   "source": [
    "H3 is an open source framework developed by Uber in the C Programming\n",
    "Language. It is a geospatial analysis tool that provides a\n",
    "hexagonal, hierarchical spatial index to gain insights from large geospatial\n",
    "datasets. The building blocks of H3 are different sized regular\n",
    "hexagonal polygons. These polygons are spread out over the entire\n",
    "projection of the earth map from pole to pole. This means that any location\n",
    "on the planet can be attributed to a H3 Hexagon dowlto a precision of\n",
    "0.0000009 km² area.\n",
    "\n",
    "Imagine it as a layer over the planet where each unit of the layer is a\n",
    "hexagon and each hexagon has a unique ID and can very quickly perform\n",
    "geospatial calculations. Each H3 hexagon can be thought of as its own\n",
    "object and each object can be accessed in a very short amount of time given\n",
    "its ID."
   ]
  },
  {
   "cell_type": "markdown",
   "metadata": {},
   "source": [
    "# H3 Resolutions\n",
    "\n",
    "A core strength of H3 is that it covers the entire world with different\n",
    "sized hexagons. This means that the resolution of the layer can be adjusted\n",
    "based on the problem being solved, like scaling the entire grid up and\n",
    "down. H3 contains a total of 16 resolutions as described in the table below,\n",
    "and each resolution has a certain number of hexagons that span the entire\n",
    "earth as a layer ranging from 122 hexagons in the highest layer and about\n",
    "500 trillion hexagons at the lowest layer. Each layer consists of a more\n",
    "granular level of hexagons and each hexagon of every layer has its own\n",
    "unique ID."
   ]
  },
  {
   "cell_type": "code",
   "execution_count": 1,
   "metadata": {},
   "outputs": [],
   "source": [
    "import h3"
   ]
  },
  {
   "cell_type": "code",
   "execution_count": 2,
   "metadata": {},
   "outputs": [
    {
     "data": {
      "text/plain": [
       "'8743accf5ffffff'"
      ]
     },
     "execution_count": 2,
     "metadata": {},
     "output_type": "execute_result"
    }
   ],
   "source": [
    "h3.geo_to_h3(\n",
    "    lat =25.32,\n",
    "    lng = 55.46,\n",
    "    resolution = 7\n",
    ")"
   ]
  },
  {
   "cell_type": "code",
   "execution_count": 5,
   "metadata": {},
   "outputs": [],
   "source": [
    "import h3\n",
    "from shapely.geometry import Polygon, Point\n",
    "import shapely.wkt"
   ]
  },
  {
   "cell_type": "code",
   "execution_count": 11,
   "metadata": {},
   "outputs": [
    {
     "data": {
      "text/plain": [
       "{'coordinates': (25.320096423316798, 55.4536270319814),\n",
       " 'geo_boundary': 'POLYGON ((55.44002356670899 25.31918709345182, 55.44865495038805 25.30945070106978, 55.46225729596062 25.31035869999394, 55.4672321068928 25.321004598309, 55.45860089418415 25.33074391879011, 55.44499469874555 25.3298344124426, 55.44002356670899 25.31918709345182))',\n",
       " 'parent': '8643accf7ffffff',\n",
       " 'children': {'8843accf51fffff',\n",
       "  '8843accf53fffff',\n",
       "  '8843accf55fffff',\n",
       "  '8843accf57fffff',\n",
       "  '8843accf59fffff',\n",
       "  '8843accf5bfffff',\n",
       "  '8843accf5dfffff'}}"
      ]
     },
     "execution_count": 11,
     "metadata": {},
     "output_type": "execute_result"
    }
   ],
   "source": [
    "def output_h3_id_attributes(h3_id):\n",
    "    return{\n",
    "        \"coordinates\" : h3.h3_to_geo(h3_id),\n",
    "        \"geo_boundary\" : Polygon(h3.h3_to_geo_boundary(h3_id, geo_json=True)).wkt, \n",
    "        \"parent\": h3.h3_to_parent(h3_id),\n",
    "        \"children\": h3.h3_to_children(h3_id)\n",
    "    }\n",
    "output_h3_id_attributes('8743accf5ffffff')"
   ]
  },
  {
   "cell_type": "code",
   "execution_count": 10,
   "metadata": {},
   "outputs": [
    {
     "data": {
      "text/plain": [
       "{'8743acc1bffffff',\n",
       " '8743acce2ffffff',\n",
       " '8743acce6ffffff',\n",
       " '8743accf0ffffff',\n",
       " '8743accf1ffffff',\n",
       " '8743accf4ffffff',\n",
       " '8743accf5ffffff'}"
      ]
     },
     "execution_count": 10,
     "metadata": {},
     "output_type": "execute_result"
    }
   ],
   "source": [
    "#returning an index's k nearest neighbors\n",
    "h3.k_ring('8743accf5ffffff', 1)"
   ]
  },
  {
   "cell_type": "code",
   "execution_count": null,
   "metadata": {},
   "outputs": [],
   "source": []
  }
 ],
 "metadata": {
  "kernelspec": {
   "display_name": "Python 3 (ipykernel)",
   "language": "python",
   "name": "python3"
  },
  "language_info": {
   "codemirror_mode": {
    "name": "ipython",
    "version": 3
   },
   "file_extension": ".py",
   "mimetype": "text/x-python",
   "name": "python",
   "nbconvert_exporter": "python",
   "pygments_lexer": "ipython3",
   "version": "3.9.7"
  }
 },
 "nbformat": 4,
 "nbformat_minor": 2
}
